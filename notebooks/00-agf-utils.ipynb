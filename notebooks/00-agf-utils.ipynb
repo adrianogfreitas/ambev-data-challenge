{
 "cells": [
  {
   "cell_type": "markdown",
   "metadata": {},
   "source": [
    "# Functions and useful definitions"
   ]
  },
  {
   "cell_type": "code",
   "execution_count": 1,
   "metadata": {},
   "outputs": [],
   "source": [
    "from ml_belt.prep import Prep\n",
    "import numpy as np\n",
    "import pandas as pd\n",
    "import seaborn as sns\n",
    "import matplotlib.pyplot as plt\n",
    "import missingno as msno\n",
    "from dateutil.parser import parse as date_parse\n",
    "import os.path\n",
    "\n",
    "from IPython.display import set_matplotlib_formats\n",
    "from IPython.core.interactiveshell import InteractiveShell\n",
    "import warnings"
   ]
  },
  {
   "cell_type": "code",
   "execution_count": 2,
   "metadata": {},
   "outputs": [],
   "source": [
    "InteractiveShell.ast_node_interactivity = \"all\"\n",
    "warnings.filterwarnings('ignore')\n",
    "pd.options.display.max_columns = None\n",
    "pd.options.display.max_rows = None\n",
    "pd.options.mode.use_inf_as_na = True"
   ]
  },
  {
   "cell_type": "code",
   "execution_count": 3,
   "metadata": {},
   "outputs": [],
   "source": [
    "# Some defines about plot\n",
    "\n",
    "default_color = (0.003602, 0.195911, 0.441564)\n",
    "default_light_color = 'white'\n",
    "default_dark_color = (0.185453, 0.258914, 0.426788)\n",
    "colormap = 'cividis'  # plt.cm.cool\n",
    "figsize = (15, 5)\n",
    "\n",
    "%store default_color\n",
    "%store default_light_color\n",
    "%store default_dark_color\n",
    "%store colormap\n",
    "%store figsize\n",
    "\n",
    "set_matplotlib_formats('pdf', 'png')\n",
    "pd.options.display.float_format = '{:.2f}'.format\n",
    "rc={'savefig.dpi': 75, 'figure.autolayout': False, 'figure.figsize': figsize, 'axes.labelsize': 12,\\\n",
    "   'axes.titlesize': 18, 'font.size': 14, 'lines.linewidth': 2.0, 'lines.markersize': 8, 'legend.fontsize': 10,\\\n",
    "   'xtick.labelsize': 12, 'ytick.labelsize': 12}\n",
    "\n",
    "sns.set(rc=rc)\n",
    "sns.set_palette(sns.color_palette(colormap))"
   ]
  },
  {
   "cell_type": "code",
   "execution_count": 4,
   "metadata": {},
   "outputs": [],
   "source": [
    "def get_meta(train):\n",
    "    data = []\n",
    "    for col in train.columns:\n",
    "        # Defining the role\n",
    "        if col == 'target':\n",
    "            role = 'target'\n",
    "        elif col == 'id':\n",
    "            role = 'id'\n",
    "        else:\n",
    "            role = 'input'\n",
    "\n",
    "        prefix = col.split('_')[0]\n",
    "        # Defining the level\n",
    "        if prefix == 'bin' or col == 'target':\n",
    "            level = 'binary'\n",
    "        elif prefix == 'nom':\n",
    "            level = 'nominal'\n",
    "        elif prefix == 'ord':\n",
    "            level = 'ordinal'\n",
    "        elif prefix == 'dis':\n",
    "            level = 'discrete'\n",
    "        elif prefix == 'per':\n",
    "            level = 'percentual'\n",
    "        elif prefix == 'con':\n",
    "            level = 'interval/continuous'\n",
    "        elif train[col].dtype == np.float64:\n",
    "            level = 'interval'\n",
    "        elif train[col].dtype == np.int64:\n",
    "            level = 'discrete'\n",
    "\n",
    "        # Initialize keep to True for all variables except for id\n",
    "        keep = True\n",
    "        if col == 'id':\n",
    "            keep = False\n",
    "\n",
    "        # Defining the data type \n",
    "        dtype = train[col].dtype\n",
    "\n",
    "        # Creating a Dict that contains all the metadata for the variable\n",
    "        col_dict = {\n",
    "            'varname': col,\n",
    "            'role'   : role,\n",
    "            'level'  : level,\n",
    "            'keep'   : keep,\n",
    "            'dtype'  : dtype,\n",
    "            'prefix' : prefix\n",
    "        }\n",
    "        data.append(col_dict)\n",
    "    meta = pd.DataFrame(data, columns=['varname', 'role', 'level', 'keep', 'dtype', 'prefix'])\n",
    "    meta.set_index('varname', inplace=True)\n",
    "    return meta"
   ]
  },
  {
   "cell_type": "code",
   "execution_count": 5,
   "metadata": {},
   "outputs": [],
   "source": [
    "def replace_by_index(df, indexes, cols, val):\n",
    "    \"\"\"Altera o valor das colunas em `cols` nos indices `indexes` pelo valor `val`\"\"\"\n",
    "    for index in indexes:\n",
    "        for col in cols:\n",
    "            df.iat[index, df.columns.get_loc(col)] = val\n",
    "            \n",
    "    return df"
   ]
  },
  {
   "cell_type": "code",
   "execution_count": 6,
   "metadata": {},
   "outputs": [],
   "source": [
    "def check_float(df, cols):\n",
    "    \"\"\"Transforma em `np.nan` todos os valores das colunas `col`\n",
    "    que não podem ser convertidos em `float`\n",
    "    \"\"\"\n",
    "    for index, row in df.iterrows():\n",
    "        for col in cols:\n",
    "            try:\n",
    "                df.at[index, col] = float(df.at[index, col])\n",
    "            except:\n",
    "                df.at[index, col] = np.nan\n",
    "    return df"
   ]
  },
  {
   "cell_type": "code",
   "execution_count": 7,
   "metadata": {},
   "outputs": [],
   "source": [
    "def replace_nan(df, cols_dict):\n",
    "    \"\"\"Apnas um wrapper para o método `replace` de pandas.DataFrame\n",
    "    permitindo ser encadeado no pipeline de `Prep`\n",
    "    \"\"\"\n",
    "    return df.replace(cols_dict, np.nan)"
   ]
  },
  {
   "cell_type": "code",
   "execution_count": 8,
   "metadata": {},
   "outputs": [],
   "source": [
    "def bin_to_num(df, cols, one=['sim'], zero=None):\n",
    "    \"\"\"Change `one` to 1 and `zero` to 0.\n",
    "    If `zero` is None, all values not in `one` will be changed to 0.\n",
    "    If `zero` is passed, all values not in `one` and `zero` will be changed to np.nan.\n",
    "    \"\"\"\n",
    "    i = 0\n",
    "    for index, row in df.iterrows():\n",
    "        for col in cols:\n",
    "            val = df.at[index, col]\n",
    "            if isinstance(val, str) and val in one:\n",
    "                df.at[index, col] = 1\n",
    "            elif zero is None:\n",
    "                df.at[index, col] = 0\n",
    "            elif isinstance(val, str) and val in zero:\n",
    "                df.at[index, col] = 0\n",
    "            else:\n",
    "                df.at[index, col] = np.nan\n",
    "    return df"
   ]
  },
  {
   "cell_type": "code",
   "execution_count": null,
   "metadata": {},
   "outputs": [],
   "source": [
    "# TODO: COLOCAR NA ML BELT UM APPLY_CUSTOM NO NÍVEL ROW OU COL\n",
    "def transform_month(df, col):\n",
    "    df[col] = df.apply(lambda x, col=col: (x[col]-2017)/10000, axis=1)\n",
    "    return df"
   ]
  },
  {
   "cell_type": "code",
   "execution_count": null,
   "metadata": {},
   "outputs": [],
   "source": [
    "# TODO: COLOCAR NA ML BELT\n",
    "def filter_valid(df, col, valid_value):\n",
    "    df = df[df[col] == valid_value]\n",
    "    return df"
   ]
  },
  {
   "cell_type": "code",
   "execution_count": null,
   "metadata": {},
   "outputs": [],
   "source": [
    "def calc_per_acum(df):\n",
    "    for idx, row in df[df['per_acum_acumulado'].isna()].iterrows():\n",
    "        df.at[idx, 'per_acum_acumulado'] = df.at[idx, 'per_peso_kpi'] * df.at[idx, 'per_pontos_acumulado']   \n",
    "    return df"
   ]
  },
  {
   "cell_type": "code",
   "execution_count": null,
   "metadata": {},
   "outputs": [],
   "source": [
    "# TODO: COLOCAR NA ML BELT\n",
    "def astype(df, cols, new_type):\n",
    "    for col in cols:\n",
    "        df[col] = df[col].astype(new_type)\n",
    "    return df"
   ]
  },
  {
   "cell_type": "code",
   "execution_count": null,
   "metadata": {},
   "outputs": [],
   "source": [
    "def plot_numerical(df, col, title):\n",
    "    # Checking nulls\n",
    "    df_size = len(df)\n",
    "    not_nulls = df[col].count()\n",
    "    nulls = df[col].isna().sum()\n",
    "    print('Total: {} - Nulls: {} ({:.02f}%) / Not Nulls: {} ({:.02f}%)'.format(\n",
    "        df_size, nulls, nulls/df_size*100, not_nulls, not_nulls/df_size*100))\n",
    "\n",
    "    # Ploting:\n",
    "    descending_order = df[col].value_counts().sort_values(ascending=False).index\n",
    "\n",
    "    fig, axs = plt.subplots(1, 2, figsize=figsize)\n",
    "    plt.suptitle(title)\n",
    "\n",
    "    ax1 = sns.countplot(df[col], palette=colormap, order=descending_order, ax=axs[0])\n",
    "    ax1.set_xlabel(title)\n",
    "    ax1.set_ylabel('Observações')\n",
    "    for tick in axs[0].get_xticklabels():\n",
    "        tick.set_rotation(90)\n",
    "\n",
    "    ax2 = sns.countplot(df[col].isna(), palette=colormap, ax=axs[1])\n",
    "    ax2.set_xlabel('Nulos')\n",
    "    ax2.set_ylabel('Observações')\n",
    "    for tick in axs[1].get_xticklabels():\n",
    "        tick.set_rotation(90)\n",
    "\n",
    "    plt.show()"
   ]
  },
  {
   "cell_type": "code",
   "execution_count": null,
   "metadata": {},
   "outputs": [],
   "source": [
    "def check_nulls(df):\n",
    "    msno.bar(df,figsize=(20,8), color=default_color, fontsize=18, labels=True)\n",
    "    msno.matrix(df,figsize=(20,8), fontsize=14)\n",
    "    msno.heatmap(df,figsize=(20,8), cmap=colormap)"
   ]
  },
  {
   "cell_type": "code",
   "execution_count": null,
   "metadata": {},
   "outputs": [],
   "source": [
    "def mat_corr(df):\n",
    "    fig, ax = plt.subplots(figsize=(20,20)) \n",
    "    sns.heatmap(df.corr(), linewidths=0.1, vmax=1.0, square=True, cmap=colormap, linecolor='white', annot=True, ax=ax)"
   ]
  }
 ],
 "metadata": {
  "kernelspec": {
   "display_name": "Python 3",
   "language": "python",
   "name": "python3"
  },
  "language_info": {
   "codemirror_mode": {
    "name": "ipython",
    "version": 3
   },
   "file_extension": ".py",
   "mimetype": "text/x-python",
   "name": "python",
   "nbconvert_exporter": "python",
   "pygments_lexer": "ipython3",
   "version": "3.6.4"
  }
 },
 "nbformat": 4,
 "nbformat_minor": 2
}
